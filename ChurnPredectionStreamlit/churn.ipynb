{
 "cells": [
  {
   "cell_type": "code",
   "execution_count": 1,
   "id": "9aa56d5d",
   "metadata": {},
   "outputs": [
    {
     "name": "stderr",
     "output_type": "stream",
     "text": [
      "2022-06-22 18:15:16.694 INFO    numexpr.utils: NumExpr defaulting to 2 threads.\n"
     ]
    }
   ],
   "source": [
    "import streamlit as st\n",
    "import pandas as pd\n",
    "import numpy as np\n",
    "import matplotlib.pyplot as plt\n",
    "import seaborn as sns\n",
    "from sklearn.preprocessing import OneHotEncoder\n",
    "from sklearn.model_selection import train_test_split\n",
    "from sklearn.linear_model import LogisticRegression\n",
    "from sklearn.ensemble import RandomForestClassifier\n",
    "from sklearn.tree import DecisionTreeClassifier\n",
    "from sklearn.metrics import accuracy_score\n",
    "from sklearn.metrics import confusion_matrix\n",
    "import seaborn as sns\n",
    "from sklearn.metrics import classification_report\n",
    "import matplotlib.pyplot as plt\n",
    "import warnings\n",
    "from sklearn.preprocessing import LabelEncoder\n",
    "warnings.filterwarnings('ignore')"
   ]
  },
  {
   "cell_type": "code",
   "execution_count": null,
   "id": "5c49ae9a",
   "metadata": {},
   "outputs": [],
   "source": [
    "st.title('Employee Retention Prevention App')\n",
    "st.markdown(\"\"\"This app performs Employee retention prevention operations.\"\"\")"
   ]
  },
  {
   "cell_type": "code",
   "execution_count": null,
   "id": "227d15fa",
   "metadata": {},
   "outputs": [],
   "source": [
    "file_bytes=st.file_uploader(\"Upload a file: \",type='csv')"
   ]
  },
  {
   "cell_type": "code",
   "execution_count": null,
   "id": "3659ee79",
   "metadata": {},
   "outputs": [],
   "source": [
    "def load_data(path):\n",
    "        data=pd.read_csv(path)\n",
    "        return data"
   ]
  },
  {
   "cell_type": "code",
   "execution_count": null,
   "id": "5c1a43ed",
   "metadata": {},
   "outputs": [],
   "source": [
    "def cleaning_data(data):\n",
    "        le=LabelEncoder()\n",
    "        categorical_columns=[column for column in data.columns if data[column].dtype=='object']\n",
    "        for column in data.columns:\n",
    "            if data[column].isna().sum()>0:\n",
    "                if column=='is_smoker':\n",
    "                    data.fillna('no',inplace=True)\n",
    "                if column=='average_montly_hours':\n",
    "                    mean_average=data['average_montly_hours'].mean()\n",
    "                    data.fillna(mean_average,inplace=True)\n",
    "                if column=='time_spend_company':\n",
    "                    mode_time_spend=data[column].mode()\n",
    "                    data.fillna(mode_time_spend,inplace=True)\n",
    "        \n",
    "        for column in categorical_columns:\n",
    "            data[column]=data[[column]].astype(str).apply(le.fit_transform)\n",
    "        return data"
   ]
  },
  {
   "cell_type": "code",
   "execution_count": null,
   "id": "870e9e8f",
   "metadata": {},
   "outputs": [],
   "source": [
    "def train_model(models,X_train,y_train,X_test,y_test):\n",
    "    for modelparams in models:\n",
    "        st.write('***********',modelparams['Name'],'*******************')\n",
    "        model=modelparams['model']\n",
    "        model.fit(X_train,y_train)\n",
    "        \n",
    "        train_predict=model.predict(X_train)\n",
    "        st.write('*******Training Accuracy***************')\n",
    "        st.write(accuracy_score(y_train,train_predict))\n",
    "        st.write('*******Testing Accuracy****************')\n",
    "        test_predict=model.predict(X_test)\n",
    "        st.write(accuracy_score(y_test,test_predict))\n",
    "        \n",
    "        st.write('********Confusion Matrix***************')\n",
    "        cn_matrix=confusion_matrix(y_test,test_predict)\n",
    "        fig=plt.figure(figsize=(10,4))\n",
    "        sns.heatmap(cn_matrix,annot=True)\n",
    "        st.pyplot(fig)\n",
    "        \n",
    "        st.write('*********Classification Report*********')\n",
    "        st.write(classification_report(y_test,test_predict))\n",
    "        st.write('----------------------------------------')\n",
    "        st.write('========================================')"
   ]
  },
  {
   "cell_type": "code",
   "execution_count": null,
   "id": "c4dc60b5",
   "metadata": {},
   "outputs": [],
   "source": [
    "if file_bytes is not None:\n",
    "    input_data=load_data(file_bytes)\n",
    "    cleaned_data=cleaning_data(input_data)\n",
    "    \n",
    "    st.sidebar.header('Select Target Variable')\n",
    "    column_names=list(input_data.columns)\n",
    "    target_var=st.sidebar.selectbox('Target Variable',column_names)\n",
    "    \n",
    "    column_names.remove(target_var)\n",
    "    st.sidebar.header('Un-select the variable not Important')\n",
    "    Independent_var=st.sidebar.multiselect('Independent Variables ',column_names,column_names)\n",
    "    \n",
    "    X=cleaned_data[Independent_var]\n",
    "    y=cleaned_data[target_var]\n",
    "    \n",
    "    X_train,X_test,y_train,y_test=train_test_split(X,y,test_size=.25,random_state=42)\n",
    "    \n",
    "    models=[{'Name':'LogisticRegression','model':LogisticRegression()},\n",
    "       {'Name':'RandomForestClassifier','model':RandomForestClassifier()},\n",
    "       {'Name':'DecisionTreeClassifier','model':DecisionTreeClassifier()}]\n",
    "    \n",
    "    train_model(models,X_train,y_train,X_test,y_test)"
   ]
  }
 ],
 "metadata": {
  "kernelspec": {
   "display_name": "Python 3 (ipykernel)",
   "language": "python",
   "name": "python3"
  },
  "language_info": {
   "codemirror_mode": {
    "name": "ipython",
    "version": 3
   },
   "file_extension": ".py",
   "mimetype": "text/x-python",
   "name": "python",
   "nbconvert_exporter": "python",
   "pygments_lexer": "ipython3",
   "version": "3.9.7"
  }
 },
 "nbformat": 4,
 "nbformat_minor": 5
}
