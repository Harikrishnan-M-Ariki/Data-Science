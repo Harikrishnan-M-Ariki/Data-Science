{
  "nbformat": 4,
  "nbformat_minor": 0,
  "metadata": {
    "colab": {
      "name": "diabetes_prediction_pyspark.ipynb",
      "provenance": [],
      "collapsed_sections": [],
      "authorship_tag": "ABX9TyPvkycW6qUUoF7xUtZ+YxlL",
      "include_colab_link": true
    },
    "kernelspec": {
      "name": "python3",
      "display_name": "Python 3"
    },
    "language_info": {
      "name": "python"
    }
  },
  "cells": [
    {
      "cell_type": "markdown",
      "metadata": {
        "id": "view-in-github",
        "colab_type": "text"
      },
      "source": [
        "<a href=\"https://colab.research.google.com/github/Harikrishnan-M-Ariki/Data-Science/blob/main/diabetes_prediction_pyspark.ipynb\" target=\"_parent\"><img src=\"https://colab.research.google.com/assets/colab-badge.svg\" alt=\"Open In Colab\"/></a>"
      ]
    },
    {
      "cell_type": "code",
      "metadata": {
        "id": "Cdu0EmVeQjSL"
      },
      "source": [
        "!apt-get install openjdk-8-jdk-headless -qq > /dev/null"
      ],
      "execution_count": 3,
      "outputs": []
    },
    {
      "cell_type": "code",
      "metadata": {
        "id": "VkK0pstiSU0L"
      },
      "source": [
        "!wget -q https://archive.apache.org/dist/spark/spark-3.1.1/spark-3.1.1-bin-hadoop3.2.tgz"
      ],
      "execution_count": 4,
      "outputs": []
    },
    {
      "cell_type": "code",
      "metadata": {
        "id": "WGB2BGyWPF4s"
      },
      "source": [
        "!tar -xvf spark-3.1.1-bin-hadoop3.2.tgz"
      ],
      "execution_count": null,
      "outputs": []
    },
    {
      "cell_type": "code",
      "metadata": {
        "id": "LFuFiorDrTwW"
      },
      "source": [
        "!pip install -q findspark"
      ],
      "execution_count": 6,
      "outputs": []
    },
    {
      "cell_type": "code",
      "metadata": {
        "id": "DF9U5NX7unKj"
      },
      "source": [
        "import os\n",
        "os.environ[\"JAVA_HOME\"]='/usr/lib/jvm/java-8-openjdk-amd64'\n",
        "os.environ['SPARK_HOME']='/content/spark-3.1.1-bin-hadoop3.2'"
      ],
      "execution_count": 7,
      "outputs": []
    },
    {
      "cell_type": "code",
      "metadata": {
        "id": "DNqMznG7uLqp"
      },
      "source": [
        "import findspark\n",
        "findspark.init()\n",
        "from pyspark.sql import SparkSession"
      ],
      "execution_count": 8,
      "outputs": []
    },
    {
      "cell_type": "code",
      "metadata": {
        "id": "ehD1j9H2udx-"
      },
      "source": [
        "spark=SparkSession.builder.master('local[*]').getOrCreate()"
      ],
      "execution_count": 9,
      "outputs": []
    },
    {
      "cell_type": "code",
      "metadata": {
        "colab": {
          "base_uri": "https://localhost:8080/"
        },
        "id": "AzXNNdtIvqDy",
        "outputId": "a5b7a92c-bcf1-42ef-f151-9626bce21346"
      },
      "source": [
        "!git clone https://github.com/education454/diabetes_dataset"
      ],
      "execution_count": 10,
      "outputs": [
        {
          "output_type": "stream",
          "text": [
            "fatal: destination path 'diabetes_dataset' already exists and is not an empty directory.\n"
          ],
          "name": "stdout"
        }
      ]
    },
    {
      "cell_type": "code",
      "metadata": {
        "id": "4FwWWNFKwvFb"
      },
      "source": [
        "data=spark.read.csv('/content/diabetes_dataset/diabetes.csv',header=True,inferSchema=True)"
      ],
      "execution_count": 11,
      "outputs": []
    },
    {
      "cell_type": "code",
      "metadata": {
        "colab": {
          "base_uri": "https://localhost:8080/"
        },
        "id": "w-4DXXbHxzgZ",
        "outputId": "7e727918-0e9a-4b6b-dafa-f9da19a1283f"
      },
      "source": [
        "data.show()"
      ],
      "execution_count": 12,
      "outputs": [
        {
          "output_type": "stream",
          "text": [
            "+-----------+-------+-------------+-------------+-------+----+------------------------+---+-------+\n",
            "|Pregnancies|Glucose|BloodPressure|SkinThickness|Insulin| BMI|DiabetesPedigreeFunction|Age|Outcome|\n",
            "+-----------+-------+-------------+-------------+-------+----+------------------------+---+-------+\n",
            "|          2|    138|           62|           35|      0|33.6|                   0.127| 47|      1|\n",
            "|          0|     84|           82|           31|    125|38.2|                   0.233| 23|      0|\n",
            "|          0|    145|            0|            0|      0|44.2|                    0.63| 31|      1|\n",
            "|          0|    135|           68|           42|    250|42.3|                   0.365| 24|      1|\n",
            "|          1|    139|           62|           41|    480|40.7|                   0.536| 21|      0|\n",
            "|          0|    173|           78|           32|    265|46.5|                   1.159| 58|      0|\n",
            "|          4|     99|           72|           17|      0|25.6|                   0.294| 28|      0|\n",
            "|          8|    194|           80|            0|      0|26.1|                   0.551| 67|      0|\n",
            "|          2|     83|           65|           28|     66|36.8|                   0.629| 24|      0|\n",
            "|          2|     89|           90|           30|      0|33.5|                   0.292| 42|      0|\n",
            "|          4|     99|           68|           38|      0|32.8|                   0.145| 33|      0|\n",
            "|          4|    125|           70|           18|    122|28.9|                   1.144| 45|      1|\n",
            "|          3|     80|            0|            0|      0| 0.0|                   0.174| 22|      0|\n",
            "|          6|    166|           74|            0|      0|26.6|                   0.304| 66|      0|\n",
            "|          5|    110|           68|            0|      0|26.0|                   0.292| 30|      0|\n",
            "|          2|     81|           72|           15|     76|30.1|                   0.547| 25|      0|\n",
            "|          7|    195|           70|           33|    145|25.1|                   0.163| 55|      1|\n",
            "|          6|    154|           74|           32|    193|29.3|                   0.839| 39|      0|\n",
            "|          2|    117|           90|           19|     71|25.2|                   0.313| 21|      0|\n",
            "|          3|     84|           72|           32|      0|37.2|                   0.267| 28|      0|\n",
            "+-----------+-------+-------------+-------------+-------+----+------------------------+---+-------+\n",
            "only showing top 20 rows\n",
            "\n"
          ],
          "name": "stdout"
        }
      ]
    },
    {
      "cell_type": "code",
      "metadata": {
        "colab": {
          "base_uri": "https://localhost:8080/"
        },
        "id": "N5912OPnyDfl",
        "outputId": "a49509fc-51c8-4dba-bb87-e7a04412ac2b"
      },
      "source": [
        "data.printSchema()"
      ],
      "execution_count": 13,
      "outputs": [
        {
          "output_type": "stream",
          "text": [
            "root\n",
            " |-- Pregnancies: integer (nullable = true)\n",
            " |-- Glucose: integer (nullable = true)\n",
            " |-- BloodPressure: integer (nullable = true)\n",
            " |-- SkinThickness: integer (nullable = true)\n",
            " |-- Insulin: integer (nullable = true)\n",
            " |-- BMI: double (nullable = true)\n",
            " |-- DiabetesPedigreeFunction: double (nullable = true)\n",
            " |-- Age: integer (nullable = true)\n",
            " |-- Outcome: integer (nullable = true)\n",
            "\n"
          ],
          "name": "stdout"
        }
      ]
    },
    {
      "cell_type": "code",
      "metadata": {
        "colab": {
          "base_uri": "https://localhost:8080/"
        },
        "id": "G7jf5jZkyvk2",
        "outputId": "cf17c838-2af1-4196-9511-163a9e9e2a3a"
      },
      "source": [
        "print(data.count())"
      ],
      "execution_count": 14,
      "outputs": [
        {
          "output_type": "stream",
          "text": [
            "2000\n"
          ],
          "name": "stdout"
        }
      ]
    },
    {
      "cell_type": "code",
      "metadata": {
        "colab": {
          "base_uri": "https://localhost:8080/"
        },
        "id": "QPTMKEXR3A18",
        "outputId": "92bddbc5-05b5-4e35-a69c-76a659198f3a"
      },
      "source": [
        "print(len(data.columns))"
      ],
      "execution_count": 15,
      "outputs": [
        {
          "output_type": "stream",
          "text": [
            "9\n"
          ],
          "name": "stdout"
        }
      ]
    },
    {
      "cell_type": "code",
      "metadata": {
        "colab": {
          "base_uri": "https://localhost:8080/"
        },
        "id": "uljuvUn43Iow",
        "outputId": "b874ae56-d664-4787-c2e2-902d692ccb5a"
      },
      "source": [
        "data.groupby('Outcome').count().show()"
      ],
      "execution_count": 16,
      "outputs": [
        {
          "output_type": "stream",
          "text": [
            "+-------+-----+\n",
            "|Outcome|count|\n",
            "+-------+-----+\n",
            "|      1|  684|\n",
            "|      0| 1316|\n",
            "+-------+-----+\n",
            "\n"
          ],
          "name": "stdout"
        }
      ]
    },
    {
      "cell_type": "code",
      "metadata": {
        "colab": {
          "base_uri": "https://localhost:8080/"
        },
        "id": "7vnIjv3fAByN",
        "outputId": "7c96f230-5048-421d-da87-892fcdde94ce"
      },
      "source": [
        "data.describe().show()"
      ],
      "execution_count": 17,
      "outputs": [
        {
          "output_type": "stream",
          "text": [
            "+-------+-----------------+------------------+------------------+-----------------+-----------------+------------------+------------------------+------------------+------------------+\n",
            "|summary|      Pregnancies|           Glucose|     BloodPressure|    SkinThickness|          Insulin|               BMI|DiabetesPedigreeFunction|               Age|           Outcome|\n",
            "+-------+-----------------+------------------+------------------+-----------------+-----------------+------------------+------------------------+------------------+------------------+\n",
            "|  count|             2000|              2000|              2000|             2000|             2000|              2000|                    2000|              2000|              2000|\n",
            "|   mean|           3.7035|          121.1825|           69.1455|           20.935|           80.254|32.192999999999984|     0.47092999999999974|           33.0905|             0.342|\n",
            "| stddev|3.306063032730656|32.068635649902916|19.188314815604098|16.10324290992682|111.1805335457595| 8.149900701279762|      0.3235525586811429|11.786423106049496|0.4744982342297426|\n",
            "|    min|                0|                 0|                 0|                0|                0|               0.0|                   0.078|                21|                 0|\n",
            "|    max|               17|               199|               122|              110|              744|              80.6|                    2.42|                81|                 1|\n",
            "+-------+-----------------+------------------+------------------+-----------------+-----------------+------------------+------------------------+------------------+------------------+\n",
            "\n"
          ],
          "name": "stdout"
        }
      ]
    },
    {
      "cell_type": "markdown",
      "metadata": {
        "id": "2r3eQQdAEEcH"
      },
      "source": [
        "Cleaning Data"
      ]
    },
    {
      "cell_type": "code",
      "metadata": {
        "colab": {
          "base_uri": "https://localhost:8080/"
        },
        "id": "Q-Dt5kUMEGt4",
        "outputId": "a92fc88a-6b8d-4c83-8418-b63779534fcd"
      },
      "source": [
        "#Checking null values:\n",
        "for col in data.columns:\n",
        "  print(col+' : '+str(data[data[col].isNull()].count()))"
      ],
      "execution_count": 18,
      "outputs": [
        {
          "output_type": "stream",
          "text": [
            "Pregnancies : 0\n",
            "Glucose : 0\n",
            "BloodPressure : 0\n",
            "SkinThickness : 0\n",
            "Insulin : 0\n",
            "BMI : 0\n",
            "DiabetesPedigreeFunction : 0\n",
            "Age : 0\n",
            "Outcome : 0\n"
          ],
          "name": "stdout"
        }
      ]
    },
    {
      "cell_type": "code",
      "metadata": {
        "colab": {
          "base_uri": "https://localhost:8080/"
        },
        "id": "bIIhn940EbVS",
        "outputId": "51ad90e7-6592-4628-f170-a88c45558d5f"
      },
      "source": [
        "#Printing zeros count\n",
        "for column in data.columns:\n",
        "  print(column+' : '+str(data[data[column]==0].count()))"
      ],
      "execution_count": 19,
      "outputs": [
        {
          "output_type": "stream",
          "text": [
            "Pregnancies : 301\n",
            "Glucose : 13\n",
            "BloodPressure : 90\n",
            "SkinThickness : 573\n",
            "Insulin : 956\n",
            "BMI : 28\n",
            "DiabetesPedigreeFunction : 0\n",
            "Age : 0\n",
            "Outcome : 1316\n"
          ],
          "name": "stdout"
        }
      ]
    },
    {
      "cell_type": "code",
      "metadata": {
        "id": "epcjPq16J7sB"
      },
      "source": [
        "from pyspark.sql.functions import *\n",
        "for column in data.columns:\n",
        "  if column!='Outcome':\n",
        "    data=data.withColumn(column,when(data[column]==0,int(data.agg({column:'mean'}).first()[0])).otherwise(data[column]))"
      ],
      "execution_count": 20,
      "outputs": []
    },
    {
      "cell_type": "code",
      "metadata": {
        "colab": {
          "base_uri": "https://localhost:8080/"
        },
        "id": "CMc1S8RCNrd3",
        "outputId": "3529173e-0994-4005-80e0-12acbde25864"
      },
      "source": [
        "for column in data.columns:\n",
        "  print(column+' : '+str(data[data[column]==0].count()))"
      ],
      "execution_count": 21,
      "outputs": [
        {
          "output_type": "stream",
          "text": [
            "Pregnancies : 0\n",
            "Glucose : 0\n",
            "BloodPressure : 0\n",
            "SkinThickness : 0\n",
            "Insulin : 0\n",
            "BMI : 0\n",
            "DiabetesPedigreeFunction : 0\n",
            "Age : 0\n",
            "Outcome : 1316\n"
          ],
          "name": "stdout"
        }
      ]
    },
    {
      "cell_type": "code",
      "metadata": {
        "colab": {
          "base_uri": "https://localhost:8080/"
        },
        "id": "8Gmba9VQN3wq",
        "outputId": "916ae44e-2f2f-4793-fa10-d5c469d01975"
      },
      "source": [
        "data.show()"
      ],
      "execution_count": 22,
      "outputs": [
        {
          "output_type": "stream",
          "text": [
            "+-----------+-------+-------------+-------------+-------+----+------------------------+---+-------+\n",
            "|Pregnancies|Glucose|BloodPressure|SkinThickness|Insulin| BMI|DiabetesPedigreeFunction|Age|Outcome|\n",
            "+-----------+-------+-------------+-------------+-------+----+------------------------+---+-------+\n",
            "|          2|    138|           62|           35|     80|33.6|                   0.127| 47|      1|\n",
            "|          3|     84|           82|           31|    125|38.2|                   0.233| 23|      0|\n",
            "|          3|    145|           69|           20|     80|44.2|                    0.63| 31|      1|\n",
            "|          3|    135|           68|           42|    250|42.3|                   0.365| 24|      1|\n",
            "|          1|    139|           62|           41|    480|40.7|                   0.536| 21|      0|\n",
            "|          3|    173|           78|           32|    265|46.5|                   1.159| 58|      0|\n",
            "|          4|     99|           72|           17|     80|25.6|                   0.294| 28|      0|\n",
            "|          8|    194|           80|           20|     80|26.1|                   0.551| 67|      0|\n",
            "|          2|     83|           65|           28|     66|36.8|                   0.629| 24|      0|\n",
            "|          2|     89|           90|           30|     80|33.5|                   0.292| 42|      0|\n",
            "|          4|     99|           68|           38|     80|32.8|                   0.145| 33|      0|\n",
            "|          4|    125|           70|           18|    122|28.9|                   1.144| 45|      1|\n",
            "|          3|     80|           69|           20|     80|32.0|                   0.174| 22|      0|\n",
            "|          6|    166|           74|           20|     80|26.6|                   0.304| 66|      0|\n",
            "|          5|    110|           68|           20|     80|26.0|                   0.292| 30|      0|\n",
            "|          2|     81|           72|           15|     76|30.1|                   0.547| 25|      0|\n",
            "|          7|    195|           70|           33|    145|25.1|                   0.163| 55|      1|\n",
            "|          6|    154|           74|           32|    193|29.3|                   0.839| 39|      0|\n",
            "|          2|    117|           90|           19|     71|25.2|                   0.313| 21|      0|\n",
            "|          3|     84|           72|           32|     80|37.2|                   0.267| 28|      0|\n",
            "+-----------+-------+-------------+-------------+-------+----+------------------------+---+-------+\n",
            "only showing top 20 rows\n",
            "\n"
          ],
          "name": "stdout"
        }
      ]
    },
    {
      "cell_type": "code",
      "metadata": {
        "colab": {
          "base_uri": "https://localhost:8080/"
        },
        "id": "4g1X_sZLnBH5",
        "outputId": "da1e0946-0b9c-4a1c-8939-fa2117bf1952"
      },
      "source": [
        "for column in data.columns:\n",
        "  print(\"Correlation to outcome for {} is {}\".format(column,data.stat.corr('Outcome',column)))"
      ],
      "execution_count": 23,
      "outputs": [
        {
          "output_type": "stream",
          "text": [
            "Correlation to outcome for Pregnancies is 0.24790480177711924\n",
            "Correlation to outcome for Glucose is 0.48796646527321064\n",
            "Correlation to outcome for BloodPressure is 0.17171333286446713\n",
            "Correlation to outcome for SkinThickness is 0.1659010662889893\n",
            "Correlation to outcome for Insulin is 0.1711763270226193\n",
            "Correlation to outcome for BMI is 0.2827927569760082\n",
            "Correlation to outcome for DiabetesPedigreeFunction is 0.1554590791569403\n",
            "Correlation to outcome for Age is 0.23650924717620253\n",
            "Correlation to outcome for Outcome is 1.0\n"
          ],
          "name": "stdout"
        }
      ]
    },
    {
      "cell_type": "code",
      "metadata": {
        "colab": {
          "base_uri": "https://localhost:8080/"
        },
        "id": "NSsfMeh8ujOX",
        "outputId": "1fe04ed4-181f-470a-df00-dabaf7cfdd9c"
      },
      "source": [
        "data.columns"
      ],
      "execution_count": 24,
      "outputs": [
        {
          "output_type": "execute_result",
          "data": {
            "text/plain": [
              "['Pregnancies',\n",
              " 'Glucose',\n",
              " 'BloodPressure',\n",
              " 'SkinThickness',\n",
              " 'Insulin',\n",
              " 'BMI',\n",
              " 'DiabetesPedigreeFunction',\n",
              " 'Age',\n",
              " 'Outcome']"
            ]
          },
          "metadata": {
            "tags": []
          },
          "execution_count": 24
        }
      ]
    },
    {
      "cell_type": "code",
      "metadata": {
        "id": "X36IBkzRrlgu"
      },
      "source": [
        "from pyspark.ml.feature import VectorAssembler\n",
        "\n",
        "assembler=VectorAssembler(inputCols=['Pregnancies',\n",
        " 'Glucose',\n",
        " 'BloodPressure',\n",
        " 'SkinThickness',\n",
        " 'Insulin',\n",
        " 'BMI',\n",
        " 'DiabetesPedigreeFunction',\n",
        " 'Age'],outputCol='features')"
      ],
      "execution_count": 26,
      "outputs": []
    },
    {
      "cell_type": "code",
      "metadata": {
        "id": "vgXnWQluu0hG"
      },
      "source": [
        "output_data=assembler.transform(data)"
      ],
      "execution_count": 27,
      "outputs": []
    },
    {
      "cell_type": "code",
      "metadata": {
        "colab": {
          "base_uri": "https://localhost:8080/"
        },
        "id": "mTNN5mdyvY-J",
        "outputId": "e68c2f34-1175-409d-b882-3dce51b49af7"
      },
      "source": [
        "output_data.printSchema()"
      ],
      "execution_count": 28,
      "outputs": [
        {
          "output_type": "stream",
          "text": [
            "root\n",
            " |-- Pregnancies: integer (nullable = true)\n",
            " |-- Glucose: integer (nullable = true)\n",
            " |-- BloodPressure: integer (nullable = true)\n",
            " |-- SkinThickness: integer (nullable = true)\n",
            " |-- Insulin: integer (nullable = true)\n",
            " |-- BMI: double (nullable = true)\n",
            " |-- DiabetesPedigreeFunction: double (nullable = true)\n",
            " |-- Age: integer (nullable = true)\n",
            " |-- Outcome: integer (nullable = true)\n",
            " |-- features: vector (nullable = true)\n",
            "\n"
          ],
          "name": "stdout"
        }
      ]
    },
    {
      "cell_type": "code",
      "metadata": {
        "id": "QwoML8ouv7H4"
      },
      "source": [
        "from pyspark.ml.classification import LogisticRegression\n",
        "\n",
        "final_data=output_data.select('features','Outcome')"
      ],
      "execution_count": 30,
      "outputs": []
    },
    {
      "cell_type": "code",
      "metadata": {
        "colab": {
          "base_uri": "https://localhost:8080/"
        },
        "id": "sCW_6mk9xUYa",
        "outputId": "307d1bd3-d91c-47d3-935d-a7efaf1225aa"
      },
      "source": [
        "final_data.printSchema()"
      ],
      "execution_count": 31,
      "outputs": [
        {
          "output_type": "stream",
          "text": [
            "root\n",
            " |-- features: vector (nullable = true)\n",
            " |-- Outcome: integer (nullable = true)\n",
            "\n"
          ],
          "name": "stdout"
        }
      ]
    },
    {
      "cell_type": "code",
      "metadata": {
        "id": "n_b3ZOKuxbr3"
      },
      "source": [
        "train,test =final_data.randomSplit([0.7,0.3])\n",
        "models=LogisticRegression(labelCol='Outcome')\n",
        "model=models.fit(train)"
      ],
      "execution_count": 32,
      "outputs": []
    },
    {
      "cell_type": "code",
      "metadata": {
        "id": "y_gPitskyAD6"
      },
      "source": [
        "summary=model.summary"
      ],
      "execution_count": 34,
      "outputs": []
    },
    {
      "cell_type": "code",
      "metadata": {
        "id": "6xaakBZtyFhJ"
      },
      "source": [
        "from pyspark.ml.evaluation import BinaryClassificationEvaluator"
      ],
      "execution_count": 35,
      "outputs": []
    },
    {
      "cell_type": "code",
      "metadata": {
        "id": "t-El_Lzf2FFT"
      },
      "source": [
        "predictions=model.evaluate(test)"
      ],
      "execution_count": 37,
      "outputs": []
    },
    {
      "cell_type": "code",
      "metadata": {
        "colab": {
          "base_uri": "https://localhost:8080/"
        },
        "id": "Um_fhdAW2IaM",
        "outputId": "5dec2e13-c162-4b3c-ebf5-179a0deb10bf"
      },
      "source": [
        "predictions.predictions.show()"
      ],
      "execution_count": 38,
      "outputs": [
        {
          "output_type": "stream",
          "text": [
            "+--------------------+-------+--------------------+--------------------+----------+\n",
            "|            features|Outcome|       rawPrediction|         probability|prediction|\n",
            "+--------------------+-------+--------------------+--------------------+----------+\n",
            "|[1.0,71.0,62.0,20...|      0|[3.98067794555235...|[0.98166931269542...|       0.0|\n",
            "|[1.0,71.0,62.0,20...|      0|[3.98067794555235...|[0.98166931269542...|       0.0|\n",
            "|[1.0,71.0,78.0,50...|      0|[3.12168541185001...|[0.95777843697371...|       0.0|\n",
            "|[1.0,73.0,50.0,10...|      0|[3.93969144639124...|[0.98091702778460...|       0.0|\n",
            "|[1.0,79.0,75.0,30...|      0|[3.02696368767885...|[0.95377749843346...|       0.0|\n",
            "|[1.0,81.0,72.0,18...|      0|[3.36104883554068...|[0.96646478674666...|       0.0|\n",
            "|[1.0,81.0,72.0,18...|      0|[3.36104883554068...|[0.96646478674666...|       0.0|\n",
            "|[1.0,81.0,74.0,41...|      0|[1.36710287347378...|[0.79691167590513...|       0.0|\n",
            "|[1.0,82.0,64.0,13...|      0|[3.68092387662958...|[0.97541973226758...|       0.0|\n",
            "|[1.0,83.0,68.0,20...|      0|[3.66437755274832...|[0.97501988001811...|       0.0|\n",
            "|[1.0,84.0,64.0,23...|      0|[2.44818378109706...|[0.92042853274956...|       0.0|\n",
            "|[1.0,86.0,66.0,52...|      0|[1.59805408508410...|[0.83174624094558...|       0.0|\n",
            "|[1.0,86.0,66.0,52...|      0|[1.59805408508410...|[0.83174624094558...|       0.0|\n",
            "|[1.0,87.0,68.0,34...|      0|[2.27469563375395...|[0.90675954695098...|       0.0|\n",
            "|[1.0,88.0,30.0,42...|      1|[0.79075814579637...|[0.68799409600055...|       0.0|\n",
            "|[1.0,88.0,78.0,29...|      0|[2.68661789913878...|[0.93623236341797...|       0.0|\n",
            "|[1.0,89.0,24.0,19...|      0|[2.56883435036238...|[0.92882867802887...|       0.0|\n",
            "|[1.0,91.0,54.0,25...|      0|[3.10603145809472...|[0.95714085232291...|       0.0|\n",
            "|[1.0,91.0,54.0,25...|      0|[3.10603145809472...|[0.95714085232291...|       0.0|\n",
            "|[1.0,92.0,62.0,25...|      0|[3.23711107638547...|[0.96220719536674...|       0.0|\n",
            "+--------------------+-------+--------------------+--------------------+----------+\n",
            "only showing top 20 rows\n",
            "\n"
          ],
          "name": "stdout"
        }
      ]
    },
    {
      "cell_type": "code",
      "metadata": {
        "id": "YINto_q32V3c"
      },
      "source": [
        "evaluator=BinaryClassificationEvaluator(rawPredictionCol='rawPrediction',labelCol='Outcome')"
      ],
      "execution_count": 39,
      "outputs": []
    },
    {
      "cell_type": "code",
      "metadata": {
        "colab": {
          "base_uri": "https://localhost:8080/"
        },
        "id": "w2fjkq6W4Gkc",
        "outputId": "d0f307f0-197b-4df4-c1ec-4fbe38acbdd3"
      },
      "source": [
        "evaluator.evaluate(model.transform(test))"
      ],
      "execution_count": 40,
      "outputs": [
        {
          "output_type": "execute_result",
          "data": {
            "text/plain": [
              "0.8609303352688253"
            ]
          },
          "metadata": {
            "tags": []
          },
          "execution_count": 40
        }
      ]
    },
    {
      "cell_type": "code",
      "metadata": {
        "id": "IV0G7Vjl4MsT"
      },
      "source": [
        "model.save('model')"
      ],
      "execution_count": 41,
      "outputs": []
    },
    {
      "cell_type": "code",
      "metadata": {
        "id": "h320rToA4Y_S"
      },
      "source": [
        "from pyspark.ml.classification import LogisticRegressionModel"
      ],
      "execution_count": 42,
      "outputs": []
    },
    {
      "cell_type": "code",
      "metadata": {
        "id": "DA1YzZTS4xDM"
      },
      "source": [
        "model=LogisticRegressionModel.load('model')"
      ],
      "execution_count": 43,
      "outputs": []
    },
    {
      "cell_type": "code",
      "metadata": {
        "id": "o7jQlXzz44TA"
      },
      "source": [
        ""
      ],
      "execution_count": null,
      "outputs": []
    }
  ]
}